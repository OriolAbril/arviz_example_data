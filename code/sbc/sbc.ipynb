{
 "cells": [
  {
   "cell_type": "markdown",
   "id": "5acbcb8c",
   "metadata": {},
   "source": [
    "# Simulated Based Calibration"
   ]
  },
  {
   "cell_type": "code",
   "execution_count": 1,
   "id": "bf884e7a",
   "metadata": {},
   "outputs": [],
   "source": [
    "import pathlib\n",
    "import numpy as np\n",
    "import pymc as pm\n",
    "from simuk import SBC\n"
   ]
  },
  {
   "cell_type": "code",
   "execution_count": 2,
   "id": "aa965d39",
   "metadata": {},
   "outputs": [],
   "source": [
    "data = np.array([28.0, 8.0, -3.0, 7.0, -1.0, 1.0, 18.0, 12.0])\n",
    "sigma = np.array([15.0, 10.0, 16.0, 11.0, 9.0, 11.0, 10.0, 18.0])\n",
    "                \n",
    "with pm.Model() as model:\n",
    "    obs = pm.Data('obs', data)\n",
    "    mu = pm.Normal('mu', mu=0, sigma=5)\n",
    "    tau = pm.HalfCauchy('tau', beta=5)\n",
    "    theta = pm.Normal('theta', mu=mu, sigma=tau, shape=8)\n",
    "    y = pm.Normal('y', mu=theta, sigma=sigma, observed=obs)"
   ]
  },
  {
   "cell_type": "code",
   "execution_count": 3,
   "id": "119764f4",
   "metadata": {},
   "outputs": [
    {
     "name": "stderr",
     "output_type": "stream",
     "text": [
      "100%|██████████| 100/100 [03:31<00:00,  2.12s/it]\n"
     ]
    }
   ],
   "source": [
    "sbc = SBC(model,\n",
    "        num_simulations=100,\n",
    "        sample_kwargs={'draws': 50, 'tune': 50},\n",
    "        seed=902,\n",
    "        )\n",
    "\n",
    "sbc.run_simulations()"
   ]
  },
  {
   "cell_type": "code",
   "execution_count": 4,
   "id": "037b84e4",
   "metadata": {},
   "outputs": [],
   "source": [
    "sbc.simulations.to_netcdf(pathlib.Path(\"..\", \"..\", \"data\", \"sbc.nc\"))"
   ]
  }
 ],
 "metadata": {
  "kernelspec": {
   "display_name": "arviz_1",
   "language": "python",
   "name": "python3"
  },
  "language_info": {
   "codemirror_mode": {
    "name": "ipython",
    "version": 3
   },
   "file_extension": ".py",
   "mimetype": "text/x-python",
   "name": "python",
   "nbconvert_exporter": "python",
   "pygments_lexer": "ipython3",
   "version": "3.12.7"
  }
 },
 "nbformat": 4,
 "nbformat_minor": 5
}
