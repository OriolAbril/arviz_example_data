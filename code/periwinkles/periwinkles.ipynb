{
 "cells": [
  {
   "cell_type": "markdown",
   "id": "5abc5788",
   "metadata": {},
   "source": [
    "# Circular Regression\n",
    "\n",
    "31 periwinkles (a kind of sea snail) were removed from it original place and released down shore. A VonMises likelihood is used to model the direction of motion as function of the distance travelled by the periwinkles after being release."
   ]
  },
  {
   "cell_type": "code",
   "execution_count": 1,
   "id": "42a64ac2",
   "metadata": {},
   "outputs": [],
   "source": [
    "import pathlib\n",
    "import bambi as bmb\n",
    "import pandas as pd\n",
    "SEED = 7355608"
   ]
  },
  {
   "cell_type": "code",
   "execution_count": 2,
   "id": "0b17723f",
   "metadata": {},
   "outputs": [],
   "source": [
    "data = pd.read_csv(pathlib.Path(\"..\", \"..\", \"data\", \"periwinkles.csv\")) "
   ]
  },
  {
   "cell_type": "markdown",
   "id": "5ba9f950",
   "metadata": {},
   "source": [
    "Just to compare results, we are going to use the VonMises family and the normal (default) family."
   ]
  },
  {
   "cell_type": "code",
   "execution_count": 3,
   "id": "e8764c4e",
   "metadata": {},
   "outputs": [
    {
     "name": "stderr",
     "output_type": "stream",
     "text": [
      "Initializing NUTS using jitter+adapt_diag...\n",
      "Multiprocess sampling (4 chains in 4 jobs)\n",
      "NUTS: [kappa, Intercept, distance]\n"
     ]
    },
    {
     "data": {
      "application/vnd.jupyter.widget-view+json": {
       "model_id": "3402fb3cac6d4e069f10f699ac9f75aa",
       "version_major": 2,
       "version_minor": 0
      },
      "text/plain": [
       "Output()"
      ]
     },
     "metadata": {},
     "output_type": "display_data"
    },
    {
     "data": {
      "text/html": [
       "<pre style=\"white-space:pre;overflow-x:auto;line-height:normal;font-family:Menlo,'DejaVu Sans Mono',consolas,'Courier New',monospace\"></pre>\n"
      ],
      "text/plain": []
     },
     "metadata": {},
     "output_type": "display_data"
    },
    {
     "name": "stderr",
     "output_type": "stream",
     "text": [
      "Sampling 4 chains for 1_000 tune and 1_000 draw iterations (4_000 + 4_000 draws total) took 4 seconds.\n"
     ]
    }
   ],
   "source": [
    "model_vm = bmb.Model(\"direction ~ distance\", data, family=\"vonmises\")\n",
    "idata_vm = model_vm.fit(random_seed=SEED, idata_kwargs={\"log_likelihood\": True}\n",
    ")\n",
    "model_vm.predict(idata_vm, kind=\"response\", random_seed=SEED)"
   ]
  },
  {
   "cell_type": "code",
   "execution_count": 4,
   "id": "af2a92d1",
   "metadata": {},
   "outputs": [
    {
     "data": {
      "text/plain": [
       "PosixPath('../../data/periwinkles.nc')"
      ]
     },
     "execution_count": 4,
     "metadata": {},
     "output_type": "execute_result"
    }
   ],
   "source": [
    "idata_vm.to_netcdf(pathlib.Path(\"..\", \"..\", \"data\", \"periwinkles.nc\"))"
   ]
  }
 ],
 "metadata": {
  "kernelspec": {
   "display_name": "arviz_1",
   "language": "python",
   "name": "python3"
  },
  "language_info": {
   "codemirror_mode": {
    "name": "ipython",
    "version": 3
   },
   "file_extension": ".py",
   "mimetype": "text/x-python",
   "name": "python",
   "nbconvert_exporter": "python",
   "pygments_lexer": "ipython3",
   "version": "3.12.7"
  }
 },
 "nbformat": 4,
 "nbformat_minor": 5
}
