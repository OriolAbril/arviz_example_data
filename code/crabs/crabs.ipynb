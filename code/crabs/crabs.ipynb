{
 "cells": [
  {
   "cell_type": "code",
   "execution_count": 1,
   "id": "d2c93c9e-ce3e-4241-b3be-4f429f5c1b2f",
   "metadata": {},
   "outputs": [],
   "source": [
    "import pathlib\n",
    "import bambi as bmb\n",
    "import pandas as pd\n",
    "import arviz_base as azb\n",
    "import numpy as np\n",
    "seed = 123"
   ]
  },
  {
   "cell_type": "code",
   "execution_count": null,
   "id": "ec0870f7",
   "metadata": {},
   "outputs": [],
   "source": [
    "crab = pd.read_csv(pathlib.Path(\"..\", \"..\", \"data\", \"horseshoe_crab.csv\")) "
   ]
  },
  {
   "cell_type": "code",
   "execution_count": 3,
   "id": "7abb0aaa",
   "metadata": {},
   "outputs": [
    {
     "name": "stderr",
     "output_type": "stream",
     "text": [
      "Initializing NUTS using jitter+adapt_diag...\n",
      "Multiprocess sampling (4 chains in 4 jobs)\n",
      "NUTS: [Intercept, width, C(color)]\n"
     ]
    },
    {
     "data": {
      "application/vnd.jupyter.widget-view+json": {
       "model_id": "5de0c4dded944e34ad603a24ca3d08bd",
       "version_major": 2,
       "version_minor": 0
      },
      "text/plain": [
       "Output()"
      ]
     },
     "metadata": {},
     "output_type": "display_data"
    },
    {
     "data": {
      "text/html": [
       "<pre style=\"white-space:pre;overflow-x:auto;line-height:normal;font-family:Menlo,'DejaVu Sans Mono',consolas,'Courier New',monospace\"></pre>\n"
      ],
      "text/plain": []
     },
     "metadata": {},
     "output_type": "display_data"
    },
    {
     "name": "stderr",
     "output_type": "stream",
     "text": [
      "Sampling 4 chains for 1_000 tune and 1_000 draw iterations (4_000 + 4_000 draws total) took 3 seconds.\n"
     ]
    }
   ],
   "source": [
    "model_crab_p = bmb.Model(\"satellite ~ width + C(color)\", family=\"poisson\", data=crab)\n",
    "idata_crab_p = model_crab_p.fit(random_seed=seed, idata_kwargs={\"log_likelihood\": True})\n",
    "model_crab_p.predict(idata_crab_p, kind=\"response\", random_seed=seed)"
   ]
  },
  {
   "cell_type": "code",
   "execution_count": 4,
   "id": "af8bfc69",
   "metadata": {},
   "outputs": [
    {
     "name": "stderr",
     "output_type": "stream",
     "text": [
      "Initializing NUTS using jitter+adapt_diag...\n",
      "Multiprocess sampling (4 chains in 4 jobs)\n",
      "NUTS: [psi, alpha, Intercept, width, C(color)]\n"
     ]
    },
    {
     "data": {
      "application/vnd.jupyter.widget-view+json": {
       "model_id": "3f2c40c4b53245ff8ef9652016f8f5c7",
       "version_major": 2,
       "version_minor": 0
      },
      "text/plain": [
       "Output()"
      ]
     },
     "metadata": {},
     "output_type": "display_data"
    },
    {
     "data": {
      "text/html": [
       "<pre style=\"white-space:pre;overflow-x:auto;line-height:normal;font-family:Menlo,'DejaVu Sans Mono',consolas,'Courier New',monospace\"></pre>\n"
      ],
      "text/plain": []
     },
     "metadata": {},
     "output_type": "display_data"
    },
    {
     "name": "stderr",
     "output_type": "stream",
     "text": [
      "Sampling 4 chains for 1_000 tune and 1_000 draw iterations (4_000 + 4_000 draws total) took 9 seconds.\n"
     ]
    }
   ],
   "source": [
    "model_crab_hnb = bmb.Model(\"satellite ~ width + C(color)\", family=\"hurdle_negativebinomial\", data=crab)\n",
    "idata_crab_hnb = model_crab_hnb.fit(random_seed=123, idata_kwargs={\"log_likelihood\": True})\n",
    "model_crab_hnb.predict(idata_crab_hnb, kind=\"response\", random_seed=seed)"
   ]
  },
  {
   "cell_type": "code",
   "execution_count": 5,
   "id": "19012d1f",
   "metadata": {},
   "outputs": [
    {
     "data": {
      "text/plain": [
       "PosixPath('../../data/crabs_hurdle_nb.nc')"
      ]
     },
     "execution_count": 5,
     "metadata": {},
     "output_type": "execute_result"
    }
   ],
   "source": [
    "idata_crab_p.to_netcdf(pathlib.Path(\"..\", \"..\", \"data\", \"crabs_poisson.nc\"))\n",
    "idata_crab_hnb.to_netcdf(pathlib.Path(\"..\", \"..\", \"data\", \"crabs_hurdle_nb.nc\"))"
   ]
  }
 ],
 "metadata": {
  "kernelspec": {
   "display_name": "arviz_1",
   "language": "python",
   "name": "python3"
  },
  "language_info": {
   "codemirror_mode": {
    "name": "ipython",
    "version": 3
   },
   "file_extension": ".py",
   "mimetype": "text/x-python",
   "name": "python",
   "nbconvert_exporter": "python",
   "pygments_lexer": "ipython3",
   "version": "3.12.7"
  },
  "widgets": {
   "application/vnd.jupyter.widget-state+json": {
    "state": {},
    "version_major": 2,
    "version_minor": 0
   }
  }
 },
 "nbformat": 4,
 "nbformat_minor": 5
}
